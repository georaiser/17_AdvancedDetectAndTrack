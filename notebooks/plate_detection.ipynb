{
 "cells": [
  {
   "cell_type": "code",
   "execution_count": null,
   "id": "d37a527c",
   "metadata": {},
   "outputs": [],
   "source": [
    "# Import Torch & Models requirements\n",
    "import torch\n",
    "import torchvision\n",
    "import cv2\n",
    "import time\n",
    "\n",
    "#!pip install ultralytics\n",
    "from ultralytics import YOLO"
   ]
  },
  {
   "cell_type": "code",
   "execution_count": null,
   "id": "c4ffc412",
   "metadata": {},
   "outputs": [],
   "source": [
    "def setup_device():\n",
    "    if torch.cuda.is_available():\n",
    "        torch.cuda.set_device(0)  # Use first GPU\n",
    "        # Enable cudnn benchmarking for better performance\n",
    "        torch.backends.cudnn.benchmark = True\n",
    "        return torch.device(\"cuda\")\n",
    "    return torch.device(\"cpu\")\n",
    "\n",
    "device = setup_device()\n",
    "print(\"device: \", device)"
   ]
  },
  {
   "cell_type": "code",
   "execution_count": null,
   "id": "cfafd7c5",
   "metadata": {},
   "outputs": [],
   "source": [
    "# COCO 80 classes\n",
    "class_names_80 = [\"person\", \"bicycle\", \"car\", \"motorcycle\", \"airplane\", \"bus\", \"train\", \"truck\", \"boat\",\n",
    "\"traffic light\", \"fire hydrant\", \"stop sign\", \"parking meter\", \"bench\", \"bird\", \"cat\", \"dog\", \"horse\",\n",
    "\"sheep\", \"cow\", \"elephant\", \"bear\", \"zebra\", \"giraffe\", \"backpack\", \"umbrella\", \"handbag\", \"tie\",\n",
    "\"suitcase\", \"frisbee\", \"skis\", \"snowboard\", \"sports ball\", \"kite\", \"baseball bat\", \"baseball glove\",\n",
    "\"skateboard\", \"surfboard\", \"tennis racket\", \"bottle\", \"wine glass\", \"cup\", \"fork\", \"knife\", \"spoon\",\n",
    "\"bowl\", \"banana\", \"apple\", \"sandwich\", \"orange\", \"broccoli\", \"carrot\", \"hot dog\", \"pizza\", \"donut\",\n",
    "\"cake\", \"chair\", \"couch\", \"potted plant\", \"bed\", \"dining table\", \"toilet\", \"tv\", \"laptop\", \"mouse\",\n",
    "\"remote\", \"keyboard\", \"cell phone\", \"microwave\", \"oven\", \"toaster\", \"sink\", \"refrigerator\", \"book\",\n",
    "\"clock\", \"vase\", \"scissors\", \"teddy bear\", \"hair drier\", \"toothbrush\"]"
   ]
  },
  {
   "cell_type": "code",
   "execution_count": null,
   "id": "c376a330",
   "metadata": {},
   "outputs": [],
   "source": [
    "class YOLOConfig:\n",
    "    def __init__(self, model_name, device):\n",
    "        self.model_path = \"../checkpoints/model_weights/{}.pt\".format(model_name)\n",
    "        self.conf_thres = 0.6\n",
    "        self.iou_thres = 0.3\n",
    "        self.model = YOLO(self.model_path).to(device)\n",
    "\n",
    "yolo_handler = YOLOConfig(\"yolov8s\", device)"
   ]
  },
  {
   "cell_type": "code",
   "execution_count": null,
   "id": "6f24e0d1",
   "metadata": {},
   "outputs": [],
   "source": [
    "# Allowed classes\n",
    "class AllowedClasses:\n",
    "    def __init__(self, model_name):\n",
    "        if \"yolo\" in model_name:\n",
    "            self.class_names = class_names_80\n",
    "        else:\n",
    "            print(\"Model not supported\")\n",
    "            exit(0)\n",
    "\n",
    "    def get_allowed_classes(self):\n",
    "        self.allowed_classes = [\n",
    "            self.class_names.index(\"car\"),\n",
    "            self.class_names.index(\"truck\")\n",
    "        ]\n",
    "\n",
    "        return self.allowed_classes\n",
    "    \n",
    "allowed_classes = AllowedClasses(\"yolo\").get_allowed_classes()"
   ]
  },
  {
   "cell_type": "code",
   "execution_count": null,
   "id": "2d459621",
   "metadata": {},
   "outputs": [],
   "source": [
    "cap = cv2.VideoCapture(\"../data/input/Video1.mp4\")\n",
    "\n",
    "while cap.isOpened():\n",
    "    ret, frame = cap.read()\n",
    "    if not ret:\n",
    "        break\n",
    "\n",
    "    # Inference with thresholds and class filter\n",
    "    results = yolo_handler.model.track(frame, \n",
    "                                 conf=yolo_handler.conf_thres, \n",
    "                                 iou=yolo_handler.iou_thres, \n",
    "                                 classes=allowed_classes,\n",
    "                                 persist=True,  # To keep the IDs consistent across \n",
    "    )  \n",
    "\n",
    "    print(results[0].boxes)  # Boxes object for bbox outputs\n",
    "    print(results[0].boxes.cls)  # Class of detected objects\n",
    "    print(results[0].boxes.conf)  # Confidence of detected objects\n",
    "    print(results[0].boxes.xyxy)  # Bounding boxes in (x1, y1, x2, y2) format   \n",
    "    print(results[0].masks)  # Mask for segmentation model only\n",
    "    print(results[0].keypoints)  # Keypoints for keypoint model only\n",
    "    print(results[0].probs)  # Class probabilities for classification model only\n",
    "    print(results[0].names)  # Class names\n",
    "    print(results[0].orig_shape)  # Original image shape (height, width)\n",
    "    print(results[0].speed)  # Inference speed (preprocess, inference,\n",
    "    \n",
    "    \n",
    "    # Draw detections\n",
    "    annotated_frame = results[0].plot(line_width=1, font_size=0.8)\n",
    "    cv2.imshow(\"YOLO11s Detection\", annotated_frame)\n",
    "\n",
    "    if cv2.waitKey(1) & 0xFF == ord(\"q\"):\n",
    "        break\n",
    "\n",
    "cap.release()\n",
    "cv2.destroyAllWindows()\n"
   ]
  }
 ],
 "metadata": {
  "kernelspec": {
   "display_name": "venv",
   "language": "python",
   "name": "python3"
  },
  "language_info": {
   "codemirror_mode": {
    "name": "ipython",
    "version": 3
   },
   "file_extension": ".py",
   "mimetype": "text/x-python",
   "name": "python",
   "nbconvert_exporter": "python",
   "pygments_lexer": "ipython3",
   "version": "3.11.13"
  }
 },
 "nbformat": 4,
 "nbformat_minor": 5
}
